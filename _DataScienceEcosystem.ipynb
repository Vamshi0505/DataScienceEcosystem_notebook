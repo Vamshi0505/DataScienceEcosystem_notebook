{
  "metadata": {
    "kernelspec": {
      "name": "xpython",
      "display_name": "Python 3.13 (XPython)",
      "language": "python"
    },
    "language_info": {
      "file_extension": ".py",
      "mimetype": "text/x-python",
      "name": "python",
      "version": "3.13.1"
    }
  },
  "nbformat_minor": 5,
  "nbformat": 4,
  "cells": [
    {
      "id": "77d9d4de-df53-4ae5-8a0a-42e4c37075fb",
      "cell_type": "markdown",
      "source": "# Data Science Tools and Ecosystem",
      "metadata": {}
    },
    {
      "id": "6486a8f4-26c5-4796-bab8-6fb896dd074e",
      "cell_type": "markdown",
      "source": "# Introduction\n\nIn this notebook, Data Science Tools and Ecosystem are summarized.\n\n\nData Science Tools and Ecosystem\nIn this notebook, we will provide a comprehensive overview of the tools and ecosystem used in data science. Data science is a vast field that relies on a variety of languages, libraries, and applications to collect, process, analyze, and visualize data.\n\nObjectives:\n\nList popular languages for Data Science.\n\nIdentify commonly used libraries and frameworks.\n\nPresent a table of popular open-source data science tools.\n\nShowcase examples of evaluating arithmetic expressions in Python.",
      "metadata": {}
    },
    {
      "id": "888f463a-09f8-4d5d-a98f-21d0f6a8ac5c",
      "cell_type": "markdown",
      "source": "# Objectives\n\n**Objectives:**\n- List popular languages for Data Science\n- List commonly used libraries in Data Science\n- Create tables using markdown\n- Perform arithmetic operations using Python code\n- Share Jupyter Notebook through GitHub\n",
      "metadata": {}
    },
    {
      "id": "778655f9-b443-49f8-97d2-2a47d5935512",
      "cell_type": "markdown",
      "source": "# Data Science Languages\n\nSome of the most popular programming languages used by data scientists include:\n\nPython: Known for its simplicity and extensive ecosystem of libraries for data manipulation, analysis, and machine learning.\n\nR: A language specifically designed for statistical computing and graphics, with a rich collection of packages for statistical analysis.\n\nSQL: A standard language for managing and querying relational databases, essential for data extraction and manipulation.",
      "metadata": {}
    },
    {
      "id": "5069f0bc-0959-4eb5-98c5-317ee467607f",
      "cell_type": "markdown",
      "source": "# Data Science Libraries\n\nData scientists use various libraries and frameworks to streamline their workflows. Some of the most common ones are:\n\nPandas: A Python library for data manipulation and analysis, providing powerful data structures like DataFrames.\n\nNumPy: A fundamental package for scientific computing with Python, offering support for large, multi-dimensional arrays and matrices.\n\nScikit-learn: A comprehensive machine learning library for Python that provides simple and efficient tools for data mining and data analysis.\n\nTensorFlow: An open-source machine learning framework developed by Google for building and deploying neural networks.\n\nPyTorch: An open-source machine learning library known for its flexibility and dynamic computation graphs, popular in deep learning research.\n\nMatplotlib: A plotting library for Python that creates static, animated, and interactive visualizations.\n\nSeaborn: A Python data visualization library based on Matplotlib that provides a high-level interface for drawing attractive statistical graphics.",
      "metadata": {}
    },
    {
      "id": "a44ed842-794c-431d-97c2-0a3e95931502",
      "cell_type": "markdown",
      "source": "# Table Of Tools\n\nTools:\n1. Jupyter Notebook - An open-source web application for creating and sharing documents that contain live code, equations, visualizations, and narrative text.\n2. RStudio          - An integrated development environment (IDE) for R, offering a console, syntax-highlighting editor, and tools for plotting, history, and debugging.\n3. Apache Spark     - An open-source unified analytics engine for large-scale data processing, known for its in-memory computing capabilities.\n4. Hadoop           - A framework for distributed storage and processing of large datasets across computer clusters.\n5. Tableau          - A business intelligence tool for creating interactive data visualizations and dashboards.\n6. Git & GitHub - Tools for tracking changes in source code and collaborating on projects.\n",
      "metadata": {}
    },
    {
      "id": "727ae7ad-0a6e-473a-b6eb-398c4e2be9ae",
      "cell_type": "markdown",
      "source": "#  Arithmetic Expressions Intro\n\nIntroduction to Arithmetic Expressions\n\nIn mathematics and programming, an arithmetic expression is a combination of numerical values, variables, arithmetic operators, and parentheses that can be evaluated to produce a single numerical result. These expressions are the foundation of all numerical computations.\n\nThe fundamental components of an arithmetic expression are:\nOperands: The values (numbers or variables) on which operations are performed. Examples: 5, 10.5, x, y.\nOperators: Symbols that perform specific mathematical operations on operands. Common arithmetic operators include:\n\n+ (Addition)\n- (Subtraction)\n* (Multiplication)\n/ (Division)\n** (Exponentiation)\n% (Modulus - returns the remainder of a division)\n// (Floor Division - returns the integer part of a division)\n\nExamples-\n\nThis is a simple arithmetic expression to multiply then add integers.\n\neval_result = (3 * 4) + 5\nprint(eval_result)\nOutput: 17\n\nThis will convert 200 minutes to hours by dividing by 60\n200 / 60\n\nOutput: 3.3333333333333335",
      "metadata": {}
    },
    {
      "id": "6414008b-6007-4496-b534-10f532454f18",
      "cell_type": "code",
      "source": "# This is a simple arithmetic expression to multiply then add integers.\neval_result = (3 * 4) + 5\nprint(eval_result)\n\n",
      "metadata": {
        "trusted": true
      },
      "outputs": [
        {
          "name": "stdout",
          "output_type": "stream",
          "text": "17\n"
        }
      ],
      "execution_count": 1
    },
    {
      "id": "424e5647-973d-4330-b63a-1d17c231d5dd",
      "cell_type": "code",
      "source": "# This will convert 200 minutes to hours by dividing by 60.\nminutes = 200\nhours = minutes / 60\nprint(hours)",
      "metadata": {
        "trusted": true
      },
      "outputs": [
        {
          "name": "stdout",
          "output_type": "stream",
          "text": "3.3333333333333335\n"
        }
      ],
      "execution_count": 2
    },
    {
      "id": "d9c353b5-50de-438e-95b2-a23e027356b3",
      "cell_type": "markdown",
      "source": "## Author\nP Vamshi Vardhan Reddy",
      "metadata": {}
    }
  ]
}